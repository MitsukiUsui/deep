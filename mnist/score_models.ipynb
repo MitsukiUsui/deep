{
 "cells": [
  {
   "cell_type": "code",
   "execution_count": 1,
   "metadata": {
    "collapsed": true
   },
   "outputs": [],
   "source": [
    "import score\n",
    "import myknn"
   ]
  },
  {
   "cell_type": "code",
   "execution_count": 3,
   "metadata": {
    "collapsed": false
   },
   "outputs": [
    {
     "name": "stdout",
     "output_type": "stream",
     "text": [
      "BEGIN: k-NN learning with k-max = 10\n",
      "\tk = 1 : f1-score = 0.9747171657529717\n",
      "\tk = 2 : f1-score = 0.9720869408706265\n",
      "\tk = 3 : f1-score = 0.9759504464673852\n",
      "\tk = 4 : f1-score = 0.9755070954058223\n",
      "\tk = 5 : f1-score = 0.9733767131398274\n",
      "\tk = 6 : f1-score = 0.9736506786737467\n",
      "\tk = 7 : f1-score = 0.9723939342375247\n",
      "\tk = 8 : f1-score = 0.972098468011132\n",
      "\tk = 9 : f1-score = 0.9715685724575914\n",
      "\tk = 10 : f1-score = 0.9702472887564015\n",
      "DONE: prediction with k = 3\n",
      "0.972861138742\n"
     ]
    }
   ],
   "source": [
    "score.score(myknn.knn, kMax=10)"
   ]
  },
  {
   "cell_type": "code",
   "execution_count": null,
   "metadata": {
    "collapsed": true
   },
   "outputs": [],
   "source": []
  }
 ],
 "metadata": {
  "kernelspec": {
   "display_name": "Python 3",
   "language": "python",
   "name": "python3"
  },
  "language_info": {
   "codemirror_mode": {
    "name": "ipython",
    "version": 3
   },
   "file_extension": ".py",
   "mimetype": "text/x-python",
   "name": "python",
   "nbconvert_exporter": "python",
   "pygments_lexer": "ipython3",
   "version": "3.6.0"
  }
 },
 "nbformat": 4,
 "nbformat_minor": 2
}
