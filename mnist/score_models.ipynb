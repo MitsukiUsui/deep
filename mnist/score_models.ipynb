{
 "cells": [
  {
   "cell_type": "code",
   "execution_count": 1,
   "metadata": {
    "collapsed": true
   },
   "outputs": [],
   "source": [
    "import score\n",
    "import myknn\n",
    "import mymlp"
   ]
  },
  {
   "cell_type": "code",
   "execution_count": 3,
   "metadata": {
    "collapsed": false
   },
   "outputs": [
    {
     "name": "stdout",
     "output_type": "stream",
     "text": [
      "Help on function score in module score:\n",
      "\n",
      "score(func, size=None, **kwargs)\n",
      "\n"
     ]
    }
   ],
   "source": [
    "help(score.score)"
   ]
  },
  {
   "cell_type": "markdown",
   "metadata": {},
   "source": [
    "## 1.k-NNによるMNIST"
   ]
  },
  {
   "cell_type": "code",
   "execution_count": 6,
   "metadata": {
    "collapsed": false
   },
   "outputs": [
    {
     "name": "stdout",
     "output_type": "stream",
     "text": [
      "Help on function knn in module myknn:\n",
      "\n",
      "knn(train_X, train_y, test_X, kMax=20)\n",
      "    train by k-nearest neighbor\n",
      "    \n",
      "    arguments:\n",
      "        kMax: k will be searched among [1,kMax]\n",
      "\n"
     ]
    }
   ],
   "source": [
    "help(myknn.knn)"
   ]
  },
  {
   "cell_type": "code",
   "execution_count": 7,
   "metadata": {
    "collapsed": false
   },
   "outputs": [
    {
     "name": "stdout",
     "output_type": "stream",
     "text": [
      "BEGIN: k-NN learning with k-max = 10\n",
      "\tk = 1 : f1-score = 0.9732349235034192\n",
      "\tk = 2 : f1-score = 0.9706702144801451\n",
      "\tk = 3 : f1-score = 0.9747921939487094\n",
      "\tk = 4 : f1-score = 0.9753612797094977\n",
      "\tk = 5 : f1-score = 0.9747688447501996\n",
      "\tk = 6 : f1-score = 0.9734182719821503\n",
      "\tk = 7 : f1-score = 0.9728922378223338\n",
      "\tk = 8 : f1-score = 0.9739603851216803\n",
      "\tk = 9 : f1-score = 0.9727684320767592\n",
      "\tk = 10 : f1-score = 0.9711541340601777\n",
      "DONE: prediction with k = 4\n",
      "0.972608494706\n"
     ]
    }
   ],
   "source": [
    "score.score(myknn.knn, kMax=10)"
   ]
  },
  {
   "cell_type": "markdown",
   "metadata": {},
   "source": [
    "## 2.MLP (without tf) によるMNIST"
   ]
  },
  {
   "cell_type": "code",
   "execution_count": 8,
   "metadata": {
    "collapsed": false
   },
   "outputs": [
    {
     "name": "stdout",
     "output_type": "stream",
     "text": [
      "Help on function mlp in module mymlp:\n",
      "\n",
      "mlp(train_X, train_y, test_X, hid_dim=100, n_epochs=10, batch_size=100, eps=0.1)\n",
      "    train by multiple layer perceptron without tensorflow\n",
      "    \n",
      "    arguments:\n",
      "        hid_dim:     dimention of hidden layer\n",
      "        n_epochs:   number of epochs\n",
      "        batch_size:  batch size of stochastic gradient descent\n",
      "        eps:           training rate of back propagation\n",
      "\n"
     ]
    }
   ],
   "source": [
    "help(mymlp.mlp)"
   ]
  },
  {
   "cell_type": "code",
   "execution_count": 2,
   "metadata": {
    "collapsed": false
   },
   "outputs": [
    {
     "name": "stdout",
     "output_type": "stream",
     "text": [
      "BEGIN: MLP learning with hid_dim = 100, n_epochs = 10, batch_size = 1, eps = 0.1\n",
      "\titer 0 :  -6400.38385954\n",
      "\titer 1 :  -4628.44934829\n",
      "\titer 2 :  -4178.78345041\n",
      "\titer 3 :  -3095.48387413\n",
      "\titer 4 :  -3259.72073815\n",
      "\titer 5 :  -2579.79949406\n",
      "\titer 6 :  -2128.20571698\n",
      "\titer 7 :  -1717.09449954\n",
      "\titer 8 :  -1202.17924747\n",
      "\titer 9 :  -1240.76994332\n",
      "0.972077523052\n"
     ]
    }
   ],
   "source": [
    "score.score(mymlp.mlp, batch_size=1)"
   ]
  },
  {
   "cell_type": "code",
   "execution_count": null,
   "metadata": {
    "collapsed": false
   },
   "outputs": [],
   "source": [
    "help(score.score)"
   ]
  },
  {
   "cell_type": "code",
   "execution_count": null,
   "metadata": {
    "collapsed": true
   },
   "outputs": [],
   "source": []
  }
 ],
 "metadata": {
  "kernelspec": {
   "display_name": "Python 3",
   "language": "python",
   "name": "python3"
  },
  "language_info": {
   "codemirror_mode": {
    "name": "ipython",
    "version": 3
   },
   "file_extension": ".py",
   "mimetype": "text/x-python",
   "name": "python",
   "nbconvert_exporter": "python",
   "pygments_lexer": "ipython3",
   "version": "3.6.0"
  }
 },
 "nbformat": 4,
 "nbformat_minor": 2
}
