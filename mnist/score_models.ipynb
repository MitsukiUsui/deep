{
 "cells": [
  {
   "cell_type": "code",
   "execution_count": 3,
   "metadata": {
    "collapsed": false
   },
   "outputs": [
    {
     "name": "stdout",
     "output_type": "stream",
     "text": [
      "Help on function score in module score:\n",
      "\n",
      "score(model, size=None, **kwargs)\n",
      "    calculate F1-score　for each model on MNIST\n",
      "    \n",
      "    arguments:\n",
      "        model    :  model(train_X, train_y, test_X, **kwargs) -> pred_y\n",
      "        size       :  size of training data\n",
      "        **kwargs: arguments for given model\n",
      "\n"
     ]
    }
   ],
   "source": [
    "import score\n",
    "help(score.score)"
   ]
  },
  {
   "cell_type": "markdown",
   "metadata": {},
   "source": [
    "## 1.k-NNによるMNIST"
   ]
  },
  {
   "cell_type": "code",
   "execution_count": 2,
   "metadata": {
    "collapsed": false
   },
   "outputs": [
    {
     "name": "stdout",
     "output_type": "stream",
     "text": [
      "Help on function knn in module mymodels.knn:\n",
      "\n",
      "knn(train_X, train_y, test_X, k_max=20)\n",
      "    train by k-nearest neighbor\n",
      "    \n",
      "    arguments:\n",
      "        k_max: k will be searched among [1,k_max]\n",
      "\n"
     ]
    }
   ],
   "source": [
    "from mymodels import knn\n",
    "help(knn.knn)"
   ]
  },
  {
   "cell_type": "code",
   "execution_count": 3,
   "metadata": {
    "collapsed": false
   },
   "outputs": [
    {
     "name": "stdout",
     "output_type": "stream",
     "text": [
      "BEGIN: k-NN learning with k-max = 10\n",
      "\tk = 1 : f1-score = 0.973945247058583\n",
      "\tk = 2 : f1-score = 0.967812562653626\n",
      "\tk = 3 : f1-score = 0.975028639605523\n",
      "\tk = 4 : f1-score = 0.9739179197503451\n",
      "\tk = 5 : f1-score = 0.9751544737623641\n",
      "\tk = 6 : f1-score = 0.9736181353844817\n",
      "\tk = 7 : f1-score = 0.9735325802459925\n",
      "\tk = 8 : f1-score = 0.9728711348764654\n",
      "\tk = 9 : f1-score = 0.9715805401731135\n",
      "\tk = 10 : f1-score = 0.9716644145404709\n",
      "DONE: prediction with k = 5\n",
      "0.97283942416\n"
     ]
    }
   ],
   "source": [
    "score.score(knn.knn, k_max=10)"
   ]
  },
  {
   "cell_type": "markdown",
   "metadata": {},
   "source": [
    "## 2.MLP (without tf) によるMNIST"
   ]
  },
  {
   "cell_type": "code",
   "execution_count": 4,
   "metadata": {
    "collapsed": false
   },
   "outputs": [
    {
     "name": "stdout",
     "output_type": "stream",
     "text": [
      "Help on function mlp_notf in module mymodels.mlp_notf:\n",
      "\n",
      "mlp_notf(train_X, train_y, test_X, hid_dim=100, n_epochs=10, batch_size=100, eps=0.1)\n",
      "    train by multiple layer perceptron without tensorflow\n",
      "    \n",
      "    arguments:\n",
      "        hid_dim:     dimention of hidden layer\n",
      "        n_epochs:   number of epochs\n",
      "        batch_size:  batch size of stochastic gradient descent\n",
      "        eps:           training rate of back propagation\n",
      "\n"
     ]
    }
   ],
   "source": [
    "from mymodels import mlp_notf\n",
    "help(mlp_notf.mlp_notf)"
   ]
  },
  {
   "cell_type": "code",
   "execution_count": 5,
   "metadata": {
    "collapsed": false
   },
   "outputs": [
    {
     "name": "stdout",
     "output_type": "stream",
     "text": [
      "BEGIN: MLP learning with hid_dim = 100, n_epochs = 10, batch_size = 100, eps = 0.1\n",
      "\titer 0 :  -114274.101513\n",
      "\titer 1 :  -112400.131342\n",
      "\titer 2 :  -114856.797009\n",
      "\titer 3 :  -110910.723293\n",
      "\titer 4 :  -95975.6766117\n",
      "\titer 5 :  -90084.8027388\n",
      "\titer 6 :  -97368.6166007\n",
      "\titer 7 :  -98337.1115032\n",
      "\titer 8 :  -97535.3037781\n",
      "\titer 9 :  -108403.234582\n",
      "0.176036631629\n"
     ]
    },
    {
     "name": "stderr",
     "output_type": "stream",
     "text": [
      "/Users/mitsuki/.pyenv/versions/anaconda3-4.3.0/lib/python3.6/site-packages/sklearn/metrics/classification.py:1113: UndefinedMetricWarning: F-score is ill-defined and being set to 0.0 in labels with no predicted samples.\n",
      "  'precision', 'predicted', average, warn_for)\n"
     ]
    }
   ],
   "source": [
    "score.score(mlp_notf.mlp_notf)"
   ]
  },
  {
   "cell_type": "markdown",
   "metadata": {},
   "source": [
    "## 3.MLP (with tf) によるMNIST"
   ]
  },
  {
   "cell_type": "code",
   "execution_count": 6,
   "metadata": {
    "collapsed": false
   },
   "outputs": [
    {
     "name": "stdout",
     "output_type": "stream",
     "text": [
      "Help on function mlp in module mymodels.mlp:\n",
      "\n",
      "mlp(train_X, train_y, test_X, hid_dim=100, n_epochs=10, batch_size=100, eps=0.1)\n",
      "    train by multiple layer perceptron with tensorflow\n",
      "    \n",
      "    arguments:\n",
      "        hid_dim:     dimention of hidden layer\n",
      "        n_epochs:   number of epochs\n",
      "        batch_size:  batch size of stochastic gradient descent\n",
      "        eps:           training rate of back propagation\n",
      "\n"
     ]
    }
   ],
   "source": [
    "from mymodels import mlp\n",
    "help(mlp.mlp)"
   ]
  },
  {
   "cell_type": "code",
   "execution_count": 7,
   "metadata": {
    "collapsed": false,
    "scrolled": true
   },
   "outputs": [
    {
     "name": "stdout",
     "output_type": "stream",
     "text": [
      "BEGIN: MLP learning with hid_dim = 100, n_epochs = 10, batch_size = 10, eps = 0.1\n",
      "\tEPOCH:: 1, Validation cost: 896.275, Validation F1: 0.952\n",
      "\tEPOCH:: 2, Validation cost: 818.018, Validation F1: 0.958\n",
      "\tEPOCH:: 3, Validation cost: 642.468, Validation F1: 0.967\n",
      "\tEPOCH:: 4, Validation cost: 618.515, Validation F1: 0.970\n",
      "\tEPOCH:: 5, Validation cost: 603.246, Validation F1: 0.971\n",
      "\tEPOCH:: 6, Validation cost: 638.350, Validation F1: 0.968\n",
      "\tEPOCH:: 7, Validation cost: 645.203, Validation F1: 0.969\n",
      "\tEPOCH:: 8, Validation cost: 654.242, Validation F1: 0.969\n",
      "\tEPOCH:: 9, Validation cost: 651.673, Validation F1: 0.969\n",
      "\tEPOCH:: 10, Validation cost: 588.262, Validation F1: 0.970\n",
      "0.972975887404\n"
     ]
    }
   ],
   "source": [
    "score.score(mlp.mlp, batch_size=10)"
   ]
  },
  {
   "cell_type": "markdown",
   "metadata": {},
   "source": [
    "## 5. CNNによるMNIST"
   ]
  },
  {
   "cell_type": "code",
   "execution_count": 1,
   "metadata": {
    "collapsed": false
   },
   "outputs": [
    {
     "name": "stdout",
     "output_type": "stream",
     "text": [
      "Help on function cnn in module mymodels.cnn:\n",
      "\n",
      "cnn(train_X, train_y, test_X, n_epochs=50, batch_size=100, eps=0.01)\n",
      "    train by convolutional neural network with tensorflow\n",
      "    \n",
      "    arguments:\n",
      "        n_epochs:   number of epochs\n",
      "        batch_size:  batch size of stochastic gradient descent\n",
      "        eps:           training rate of back propagation\n",
      "\n"
     ]
    }
   ],
   "source": [
    "from mymodels import cnn\n",
    "help(cnn.cnn)"
   ]
  },
  {
   "cell_type": "code",
   "execution_count": null,
   "metadata": {
    "collapsed": false
   },
   "outputs": [
    {
     "name": "stdout",
     "output_type": "stream",
     "text": [
      "BEGIN: CNN learning with n_epochs = 2, batch_size = 100, eps = 0.01\n",
      "\tEPOCH:: 1, Validation cost: 0.379, Validation F1: 0.880\n"
     ]
    }
   ],
   "source": [
    "score.score(cnn.cnn, n_epochs=2)"
   ]
  },
  {
   "cell_type": "code",
   "execution_count": null,
   "metadata": {
    "collapsed": true
   },
   "outputs": [],
   "source": []
  }
 ],
 "metadata": {
  "kernelspec": {
   "display_name": "Python 3",
   "language": "python",
   "name": "python3"
  },
  "language_info": {
   "codemirror_mode": {
    "name": "ipython",
    "version": 3
   },
   "file_extension": ".py",
   "mimetype": "text/x-python",
   "name": "python",
   "nbconvert_exporter": "python",
   "pygments_lexer": "ipython3",
   "version": "3.6.0"
  }
 },
 "nbformat": 4,
 "nbformat_minor": 2
}
